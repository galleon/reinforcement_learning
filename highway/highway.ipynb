{
  "nbformat": 4,
  "nbformat_minor": 0,
  "metadata": {
    "colab": {
      "name": "highway",
      "provenance": [],
      "collapsed_sections": [],
      "toc_visible": true,
      "authorship_tag": "ABX9TyMzcNpJVPpjzsZAUpAtXZ1M",
      "include_colab_link": true
    },
    "kernelspec": {
      "name": "python3",
      "display_name": "Python 3"
    }
  },
  "cells": [
    {
      "cell_type": "markdown",
      "metadata": {
        "id": "view-in-github",
        "colab_type": "text"
      },
      "source": [
        "<a href=\"https://colab.research.google.com/github/blackdarkside/reinforcement_learning/blob/master/highway.ipynb\" target=\"_parent\"><img src=\"https://colab.research.google.com/assets/colab-badge.svg\" alt=\"Open In Colab\"/></a>"
      ]
    },
    {
      "cell_type": "markdown",
      "metadata": {
        "id": "rww5NzerqfjU",
        "colab_type": "text"
      },
      "source": [
        "# Install Dependency"
      ]
    },
    {
      "cell_type": "markdown",
      "metadata": {
        "id": "JCD3HlEcq5rZ",
        "colab_type": "text"
      },
      "source": [
        "install dependency"
      ]
    },
    {
      "cell_type": "code",
      "metadata": {
        "id": "_SaC0SMoqYjV",
        "colab_type": "code",
        "colab": {}
      },
      "source": [
        "%tensorflow_version 1.14.0 > /dev/null 2>&1\n",
        "!pip install stable-baselines[mpi]==2.10.0 > /dev/null 2>&1\n",
        "!pip install git+https://github.com/eleurent/highway-env > /dev/null 2>&1\n",
        "!pip install gym pyvirtualdisplay > /dev/null 2>&1\n",
        "!apt-get install -y xvfb python-opengl ffmpeg > /dev/null 2>&1\n",
        "!apt-get install x11-utils > /dev/null 2>&1"
      ],
      "execution_count": 0,
      "outputs": []
    },
    {
      "cell_type": "markdown",
      "metadata": {
        "id": "yZ-QsTDHq7dg",
        "colab_type": "text"
      },
      "source": [
        "import dependency"
      ]
    },
    {
      "cell_type": "code",
      "metadata": {
        "id": "c2o1mWhDqmnZ",
        "colab_type": "code",
        "colab": {}
      },
      "source": [
        "import gym\n",
        "from gym import logger as gymlogger\n",
        "from gym.wrappers import Monitor\n",
        "import highway_env\n",
        "import numpy as np\n",
        "\n",
        "#for dqn\n",
        "from stable_baselines.common.vec_env import DummyVecEnv\n",
        "from stable_baselines.deepq.policies import MlpPolicy\n",
        "from stable_baselines import DQN"
      ],
      "execution_count": 0,
      "outputs": []
    },
    {
      "cell_type": "markdown",
      "metadata": {
        "id": "SjBvtmaEq9kK",
        "colab_type": "text"
      },
      "source": [
        "## Training"
      ]
    },
    {
      "cell_type": "code",
      "metadata": {
        "id": "42cORGpOq-x4",
        "colab_type": "code",
        "colab": {}
      },
      "source": [
        "from stable_baselines.common.vec_env import DummyVecEnv\n",
        "from stable_baselines.deepq.policies import MlpPolicy\n",
        "from stable_baselines import DQN\n",
        "\n",
        "env = gym.make('highway-v0')\n",
        "\n",
        "model = DQN(MlpPolicy, env, verbose=1)\n",
        "model.learn(total_timesteps=25000)\n",
        "model.save(\"deepq_highway\")\n",
        "\n",
        "\n",
        "obs = env.reset()\n",
        "done = false\n",
        "while not done:\n",
        "    action, _states = model.predict(obs)\n",
        "    obs, rewards, done, info = env.step(action)\n",
        "    env.render()"
      ],
      "execution_count": 0,
      "outputs": []
    }
  ]
}